{
 "cells": [
  {
   "cell_type": "code",
   "execution_count": 1,
   "metadata": {
    "collapsed": true
   },
   "outputs": [
    {
     "data": {
      "text/plain": "(array([0.65149735, 0.7893201 , 0.57512067, 0.84391694, 0.73230075,\n        0.96363883, 0.22166658, 0.27008019, 0.2304746 , 0.84557998]),\n [[1], [1], [1], [1], [1], [1], [1], [1], [1], [1]])"
     },
     "execution_count": 1,
     "metadata": {},
     "output_type": "execute_result"
    }
   ],
   "source": [
    "import numpy as np\n",
    "# 设置机器中奖概率,0-1的均匀分布\n",
    "probs = np.random.uniform(size=10)\n",
    "# 对机器进行初始化,每个列表存储一个机器的奖励历史，初始值为1\n",
    "rewards = [[1] for _ in range(10)]\n",
    "probs, rewards"
   ]
  },
  {
   "cell_type": "code",
   "execution_count": 2,
   "outputs": [
    {
     "data": {
      "text/plain": "0"
     },
     "execution_count": 2,
     "metadata": {},
     "output_type": "execute_result"
    }
   ],
   "source": [
    "import random\n",
    "\n",
    "# # 贪婪算法\n",
    "# def greedy_choose():\n",
    "#     # 有小概率随机选择一个拉杆,这个称为探索\n",
    "#     # 本次小概率设置为1%\n",
    "#     if random.random() < 0.01:\n",
    "#         # 随机选择的拉杆\n",
    "#         return random.randint(0,9)\n",
    "#     # 计算每一个机器的奖励平均\n",
    "#     rewards_mean = [np.mean(i) for i in rewards]\n",
    "#     # 选择期望最大作为估值最大的拉杆\n",
    "#     return np.argmax(rewards_mean)\n",
    "\n",
    "# 递减的贪婪算法\n",
    "def greedy_choose():\n",
    "\n",
    "    # 现在玩了多少次\n",
    "    played_count = sum([len(i) for i in rewards])\n",
    "\n",
    "    # 有小概率随机选择一个拉杆,这个称为探索\n",
    "    # 随机选择的概率逐渐下降\n",
    "    if random.random() < 1 / played_count:\n",
    "        # 随机选择的拉杆\n",
    "        return random.randint(0,9)\n",
    "    # 计算每一个机器的奖励平均\n",
    "    rewards_mean = [np.mean(i) for i in rewards]\n",
    "    # 选择期望最大作为估值最大的拉杆\n",
    "    return np.argmax(rewards_mean)\n",
    "\n",
    "greedy_choose()"
   ],
   "metadata": {
    "collapsed": false
   }
  },
  {
   "cell_type": "code",
   "execution_count": 3,
   "outputs": [],
   "source": [
    "# 尝试函数\n",
    "def try_and_play():\n",
    "    i = greedy_choose()\n",
    "\n",
    "    #玩老虎机,得到结果\n",
    "    reward = 0\n",
    "    # 这个随机值是判断是否中奖,假设低于设定值就判断为中奖\n",
    "    if random.random() < probs[i]:\n",
    "        reward = 1\n",
    "\n",
    "    #记录玩的结果\n",
    "    rewards[i].append(reward)"
   ],
   "metadata": {
    "collapsed": false
   }
  },
  {
   "cell_type": "code",
   "execution_count": 4,
   "outputs": [],
   "source": [
    "# 游玩函数\n",
    "def get_result():\n",
    "    #玩N次\n",
    "    for _ in range(5000):\n",
    "        try_and_play()\n",
    "\n",
    "    #期望的最好结果\n",
    "    target = probs.max() * 5000\n",
    "\n",
    "    #实际玩出的结果\n",
    "    result = sum([sum(i) for i in rewards])\n",
    "\n",
    "    return target, result"
   ],
   "metadata": {
    "collapsed": false
   }
  },
  {
   "cell_type": "code",
   "execution_count": 5,
   "outputs": [
    {
     "data": {
      "text/plain": "(4818.194150541769, 4806)"
     },
     "execution_count": 5,
     "metadata": {},
     "output_type": "execute_result"
    }
   ],
   "source": [
    "get_result()"
   ],
   "metadata": {
    "collapsed": false
   }
  },
  {
   "cell_type": "code",
   "execution_count": 5,
   "outputs": [],
   "source": [],
   "metadata": {
    "collapsed": false
   }
  }
 ],
 "metadata": {
  "kernelspec": {
   "display_name": "Python 3",
   "language": "python",
   "name": "python3"
  },
  "language_info": {
   "codemirror_mode": {
    "name": "ipython",
    "version": 2
   },
   "file_extension": ".py",
   "mimetype": "text/x-python",
   "name": "python",
   "nbconvert_exporter": "python",
   "pygments_lexer": "ipython2",
   "version": "2.7.6"
  }
 },
 "nbformat": 4,
 "nbformat_minor": 0
}
