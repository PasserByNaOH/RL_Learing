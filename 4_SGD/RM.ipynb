{
 "cells": [
  {
   "cell_type": "markdown",
   "source": [
    "# 罗宾斯-蒙罗算法(随机逼近算法)\n",
    "- 算法目标：寻找一个 **未知表达式函数的零点**，这个函数必须是**递增**的"
   ],
   "metadata": {
    "collapsed": false
   }
  },
  {
   "cell_type": "code",
   "execution_count": 36,
   "outputs": [],
   "source": [
    "import random\n",
    "\n",
    "import numpy as np\n",
    "# 假设一个函数（对于算法来说是未知的，但是为了方便观察RM算法是否估计准确和生成函数采样，设计一个有递增区间函数）\n",
    "def f(x):\n",
    "    return x**2-4"
   ],
   "metadata": {
    "collapsed": false
   }
  },
  {
   "cell_type": "markdown",
   "source": [
    "算法表达式：\n",
    "$$w_{k+1}= w_k - a_k \\widetilde{g}(w_k,\\eta_k),k=1,2,3,...$$\n",
    "其中，\n",
    "- $w_k$表示对零点的第k次估计\n",
    "- $\\widetilde{g}(w_k,\\eta_k)=g(w_k)+\\eta_k$表示带有噪音的一个观测（即观测值含有噪声$\\eta_k$）\n",
    "- $a_k$>0，称为步长，本次算法取0.15"
   ],
   "metadata": {
    "collapsed": false
   }
  },
  {
   "cell_type": "code",
   "execution_count": 37,
   "outputs": [],
   "source": [
    "# 定义RM算法\n",
    "def RM(w0, iterationNum, alpha=0.15):\n",
    "    w = w0# 初始化估计值\n",
    "    for k in range(iterationNum):\n",
    "        # g表示一个有噪声的测量\n",
    "        g = f(w) + np.random.normal(scale=1, size=1)\n",
    "        w = w - g * alpha\n",
    "    return w"
   ],
   "metadata": {
    "collapsed": false
   }
  },
  {
   "cell_type": "code",
   "execution_count": 38,
   "outputs": [],
   "source": [
    "# 从小向大估计\n",
    "w_1 = RM(1,100)\n",
    "# 从大向小估计\n",
    "w_2 = RM(3,100)"
   ],
   "metadata": {
    "collapsed": false
   }
  },
  {
   "cell_type": "code",
   "execution_count": 39,
   "outputs": [
    {
     "name": "stdout",
     "output_type": "stream",
     "text": [
      "真实值：2.0\n",
      "从小到大估计：[2.03634189]\n",
      "从大到小估计：[2.00539572]\n"
     ]
    }
   ],
   "source": [
    "print(f\"真实值：{np.sqrt(4)}\")\n",
    "print(f\"从小到大估计：{w_1}\")\n",
    "print(f\"从大到小估计：{w_2}\")"
   ],
   "metadata": {
    "collapsed": false
   }
  }
 ],
 "metadata": {
  "kernelspec": {
   "display_name": "Python 3",
   "language": "python",
   "name": "python3"
  },
  "language_info": {
   "codemirror_mode": {
    "name": "ipython",
    "version": 2
   },
   "file_extension": ".py",
   "mimetype": "text/x-python",
   "name": "python",
   "nbconvert_exporter": "python",
   "pygments_lexer": "ipython2",
   "version": "2.7.6"
  }
 },
 "nbformat": 4,
 "nbformat_minor": 0
}
