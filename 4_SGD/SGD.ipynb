{
 "cells": [
  {
   "cell_type": "markdown",
   "source": [
    "# 随机梯度下降算法SGD\n",
    "## 1.SGD"
   ],
   "metadata": {
    "collapsed": false
   }
  },
  {
   "cell_type": "code",
   "execution_count": 33,
   "outputs": [],
   "source": [
    "import numpy as np\n",
    "\n",
    "# 设置目标函数J(w, X)\n",
    "def J(w, x):\n",
    "    return 0.5 * (w - x)**2"
   ],
   "metadata": {
    "collapsed": false
   }
  },
  {
   "cell_type": "markdown",
   "source": [
    "$$w_{k+1} = w_{k} - \\alpha_k\\nabla_wf(w_k,x_i)$$\n",
    "其中，\n",
    "- x_i是一个随机变量\n",
    "- $a_k = \\frac{1}{k+1}$"
   ],
   "metadata": {
    "collapsed": false
   }
  },
  {
   "cell_type": "code",
   "execution_count": 65,
   "outputs": [],
   "source": [
    "def SGD(w0, iterationNum):\n",
    "    w = w0\n",
    "    for k in range(iterationNum):\n",
    "        x = np.random.uniform(low=-1, high=1, size=1)\n",
    "        # 目标函数求w的偏导(这里直接给出了J(w,x)的w偏导数)\n",
    "        grad = w - x\n",
    "        alpha = 1 / (k + 1)\n",
    "        w = w - grad * alpha\n",
    "\n",
    "    return w"
   ],
   "metadata": {
    "collapsed": false
   }
  },
  {
   "cell_type": "code",
   "execution_count": 67,
   "outputs": [
    {
     "data": {
      "text/plain": "array([-0.00347165])"
     },
     "execution_count": 67,
     "metadata": {},
     "output_type": "execute_result"
    }
   ],
   "source": [
    "w = SGD(3, 1000)\n",
    "w"
   ],
   "metadata": {
    "collapsed": false
   }
  },
  {
   "cell_type": "markdown",
   "source": [
    "## 2.批量梯度下降BGD\n",
    "实际上是mini-BGD，也就是从n个样本X选取m个（m<n）进行计算\n",
    "$$\n",
    "w_{k+1} = w_{k} - \\alpha_k\\frac{1}{m}\\sum^n_{j\\in\\mathcal{I}_k}\\nabla_wf(w_k,x_i)\n",
    "$$"
   ],
   "metadata": {
    "collapsed": false
   }
  },
  {
   "cell_type": "code",
   "execution_count": 47,
   "outputs": [],
   "source": [
    "import numpy as np\n",
    "# 生成200个随机样本\n",
    "X = np.random.uniform(low=-5,high=5,size=200)\n",
    "def mBGD(w0, X, m, iterationNum):\n",
    "    w = w0\n",
    "    for k in range(iterationNum):\n",
    "        gradMean = 0\n",
    "        # 从样本X中选取m个作为训练数据\n",
    "        for j in range(m):\n",
    "            x = np.random.choice(X)\n",
    "            grad = w - x\n",
    "            gradMean += grad\n",
    "        gradMean = gradMean / m\n",
    "        alpha = 1 / (k + 1)\n",
    "        w = w - gradMean * alpha\n",
    "    return w"
   ],
   "metadata": {
    "collapsed": false
   }
  },
  {
   "cell_type": "code",
   "execution_count": 49,
   "outputs": [
    {
     "data": {
      "text/plain": "0.018379214212067594"
     },
     "execution_count": 49,
     "metadata": {},
     "output_type": "execute_result"
    }
   ],
   "source": [
    "w = mBGD(3,X,20, 1000)\n",
    "w"
   ],
   "metadata": {
    "collapsed": false
   }
  },
  {
   "cell_type": "code",
   "execution_count": null,
   "outputs": [],
   "source": [],
   "metadata": {
    "collapsed": false
   }
  }
 ],
 "metadata": {
  "kernelspec": {
   "display_name": "Python 3",
   "language": "python",
   "name": "python3"
  },
  "language_info": {
   "codemirror_mode": {
    "name": "ipython",
    "version": 2
   },
   "file_extension": ".py",
   "mimetype": "text/x-python",
   "name": "python",
   "nbconvert_exporter": "python",
   "pygments_lexer": "ipython2",
   "version": "2.7.6"
  }
 },
 "nbformat": 4,
 "nbformat_minor": 0
}
