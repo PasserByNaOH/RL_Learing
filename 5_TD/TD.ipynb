{
 "cells": [
  {
   "cell_type": "markdown",
   "source": [
    "# TD算法\n",
    "## 1.游戏环境"
   ],
   "metadata": {
    "collapsed": false
   }
  },
  {
   "cell_type": "code",
   "execution_count": 94,
   "outputs": [],
   "source": [
    "import random\n",
    "\n",
    "\n",
    "# 简单环境\n",
    "class SimpleEnvironment:\n",
    "    def __init__(self):\n",
    "        # 只有x轴，从x=0出发到达x=3\n",
    "        self.state_space = [0, 1, 2, 3]\n",
    "        # 只有不动和向右（x轴正方向）两个动作\n",
    "        self.action_space = [0, 1]\n",
    "        self.rewards = {\n",
    "            (0, 0): -10,\n",
    "            (0, 1): 1,\n",
    "            (1, 0): -10,\n",
    "            (1, 1): 10,\n",
    "            (2, 0): -10,\n",
    "            (2, 1): 50,\n",
    "        }\n",
    "\n",
    "    def reset(self):\n",
    "        return 0\n",
    "\n",
    "    def step(self, state ,action):\n",
    "        current_state = state  # 假设始终从状态0开始\n",
    "        next_state = current_state + action\n",
    "\n",
    "        # 边界检查\n",
    "        if next_state < 0:\n",
    "            next_state = 0\n",
    "        elif next_state > 3:\n",
    "            next_state = 3\n",
    "\n",
    "        reward = self.rewards.get((current_state, action), 0)\n",
    "        done = next_state == 3\n",
    "        return next_state, reward, done"
   ],
   "metadata": {
    "collapsed": false
   }
  },
  {
   "cell_type": "markdown",
   "source": [
    "## 2.环境初始化"
   ],
   "metadata": {
    "collapsed": false
   }
  },
  {
   "cell_type": "code",
   "execution_count": 95,
   "outputs": [],
   "source": [
    "# # 初始化value表（V表）\n",
    "# TD算法无法得到actoin value,只负责计算每一个状态的最优状态值\n",
    "import numpy as np\n",
    "V = np.zeros(4)"
   ],
   "metadata": {
    "collapsed": false
   }
  },
  {
   "cell_type": "markdown",
   "source": [
    "## 3.TD算法实现\n",
    "公式\n",
    "$$v_{t+1}(s_t)=v_t(s_t)-\\alpha_t(s_t)[v_t(s_t)-[r_{t+1}+\\gamma v_t(s_{t+1})]]$$"
   ],
   "metadata": {
    "collapsed": false
   }
  },
  {
   "cell_type": "code",
   "execution_count": 96,
   "outputs": [],
   "source": [
    "def td_learning(env, V, alpha=0.1, gamma=0.9, episodes=30):\n",
    "    \"\"\"\n",
    "    纯TD学习算法\n",
    "\n",
    "    Args:\n",
    "        env: 环境\n",
    "        V: 状态价值函数\n",
    "        alpha: 学习率\n",
    "        gamma: 折扣因子\n",
    "        episodes: 训练回合数\n",
    "\n",
    "    Returns:\n",
    "        V: 训练后的状态价值函数\n",
    "    \"\"\"\n",
    "    for episode in range(episodes):\n",
    "        # 初始化状态\n",
    "        state = env.reset()\n",
    "        done = False\n",
    "        total_reward = 0\n",
    "\n",
    "        # 遍历游戏回合\n",
    "        while not done:\n",
    "            # 只有在 done 为 False 时才选择动作\n",
    "            action = 1\n",
    "            if random.random() < 0.1:\n",
    "                action = 0\n",
    "\n",
    "            # 执行动作并获得反馈\n",
    "            next_state, reward, done = env.step(state, action)\n",
    "            total_reward += reward\n",
    "            # TD更新\n",
    "            V[state] = V[state] - alpha * (V[state] - (reward + gamma * V[next_state]))\n",
    "            # 更新当前状态\n",
    "            state = next_state\n",
    "\n",
    "    return V"
   ],
   "metadata": {
    "collapsed": false
   }
  },
  {
   "cell_type": "markdown",
   "source": [
    "## 4.训练与结果展示"
   ],
   "metadata": {
    "collapsed": false
   }
  },
  {
   "cell_type": "code",
   "execution_count": 97,
   "outputs": [
    {
     "data": {
      "text/plain": "array([30.12332312, 43.85805089, 45.1838773 ,  0.        ])"
     },
     "execution_count": 97,
     "metadata": {},
     "output_type": "execute_result"
    }
   ],
   "source": [
    "env = SimpleEnvironment()\n",
    "V = td_learning(env, V)\n",
    "V"
   ],
   "metadata": {
    "collapsed": false
   }
  },
  {
   "cell_type": "code",
   "execution_count": 93,
   "outputs": [],
   "source": [],
   "metadata": {
    "collapsed": false
   }
  }
 ],
 "metadata": {
  "kernelspec": {
   "display_name": "Python 3",
   "language": "python",
   "name": "python3"
  },
  "language_info": {
   "codemirror_mode": {
    "name": "ipython",
    "version": 2
   },
   "file_extension": ".py",
   "mimetype": "text/x-python",
   "name": "python",
   "nbconvert_exporter": "python",
   "pygments_lexer": "ipython2",
   "version": "2.7.6"
  }
 },
 "nbformat": 4,
 "nbformat_minor": 0
}
