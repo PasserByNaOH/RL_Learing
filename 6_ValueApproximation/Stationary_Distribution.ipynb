{
 "cells": [
  {
   "cell_type": "markdown",
   "source": [
    "# Stationary Distribution\n",
    "# 马尔可夫链的平稳状态\n",
    "以下例子来源于赵世钰老师第八课第二个视频\n",
    "平稳状态变化表示为$d_{\\pi}^T = d_{\\pi}^T · P_{\\pi}$"
   ],
   "metadata": {
    "collapsed": false
   }
  },
  {
   "cell_type": "code",
   "execution_count": 6,
   "outputs": [
    {
     "data": {
      "text/plain": "array([0.03448276, 0.10837438, 0.13300493, 0.72413793])"
     },
     "execution_count": 6,
     "metadata": {},
     "output_type": "execute_result"
    }
   ],
   "source": [
    "import numpy as np\n",
    "\n",
    "# 状态转移矩阵\n",
    "P_pi = [\n",
    "    [0.3, 0.1, 0.6, 0],\n",
    "    [0.1, 0.3, 0, 0.6],\n",
    "    [0.1, 0, 0.3, 0.6],\n",
    "    [0, 0.1, 0.1, 0.8]\n",
    "]\n",
    "P_pi = np.array(P_pi)\n",
    "# 初始概率,(不论初始概率为多少，最终都会收敛到一个确定的值)\n",
    "d_pi = [0.7, 0.1, 0.1, 0.1]\n",
    "d_pi = np.array(d_pi)\n",
    "\n",
    "# 经过长期的迭代\n",
    "# 假设迭代100次\n",
    "for i in range(100):\n",
    "    # 创建一个新的数组来存储累加结果\n",
    "    temp = d_pi.T @ P_pi\n",
    "    # 将累加结果加到 d_pi 上\n",
    "    d_pi = temp.T\n",
    "\n",
    "d_pi"
   ],
   "metadata": {
    "collapsed": false
   }
  }
 ],
 "metadata": {
  "kernelspec": {
   "display_name": "Python 3",
   "language": "python",
   "name": "python3"
  },
  "language_info": {
   "codemirror_mode": {
    "name": "ipython",
    "version": 2
   },
   "file_extension": ".py",
   "mimetype": "text/x-python",
   "name": "python",
   "nbconvert_exporter": "python",
   "pygments_lexer": "ipython2",
   "version": "2.7.6"
  }
 },
 "nbformat": 4,
 "nbformat_minor": 0
}
