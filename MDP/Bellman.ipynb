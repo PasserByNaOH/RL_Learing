{
 "cells": [
  {
   "cell_type": "code",
   "execution_count": 1,
   "metadata": {
    "collapsed": true
   },
   "outputs": [],
   "source": [
    "import numpy as np\n",
    "\n",
    "#状态转移概率矩阵\n",
    "P = np.array([\n",
    "    [0.9, 0.1, 0.0, 0.0, 0.0, 0.0],\n",
    "    [0.5, 0.0, 0.5, 0.0, 0.0, 0.0],\n",
    "    [0.0, 0.0, 0.0, 0.6, 0.0, 0.4],\n",
    "    [0.0, 0.0, 0.0, 0.0, 0.3, 0.7],\n",
    "    [0.0, 0.2, 0.3, 0.5, 0.0, 0.0],\n",
    "    [0.0, 0.0, 0.0, 0.0, 0.0, 1.0],\n",
    "])\n",
    "\n",
    "#到达每一个状态的奖励\n",
    "R = np.array([-1, -2, -2, 10, 1, 0])"
   ]
  },
  {
   "cell_type": "markdown",
   "source": [
    "$G_t$为一个轨迹的discounted return\n",
    "$\n",
    "\\begin{aligned}\n",
    "G_t &= R_{t+1}+\\gamma R_{t+2} + \\gamma^2 R_{t+3} + …… \\\\\n",
    "\t&= R_{t+1}+\\gamma (R_{t+2} + \\gamma R_{t+3} + ……) \\\\\n",
    "\t&= R_{t+1} + \\gamma G_{t+1}\n",
    "\\end{aligned}\n",
    "$"
   ],
   "metadata": {
    "collapsed": false
   }
  },
  {
   "cell_type": "code",
   "execution_count": 2,
   "outputs": [
    {
     "data": {
      "text/plain": "-2.5"
     },
     "execution_count": 2,
     "metadata": {},
     "output_type": "execute_result"
    }
   ],
   "source": [
    "#给定一条序列,计算回报,计算的就是discounted return\n",
    "def value_by_chain(chain):\n",
    "    s = 0\n",
    "    for i, c in enumerate(chain):\n",
    "        #给每一步的反馈做一个系数,随着步数往前衰减\n",
    "        s += R[c] * 0.5**i\n",
    "\n",
    "    #最终的反馈是所有步数衰减后的求和\n",
    "    return s\n",
    "value_by_chain(np.array([0, 1, 2, 5]))"
   ],
   "metadata": {
    "collapsed": false
   }
  },
  {
   "cell_type": "markdown",
   "source": [
    "贝尔曼公式为\n",
    "- 代数形式\n",
    "    $\n",
    "    \\begin{aligned}\n",
    "    v_\\pi(s)\n",
    "    &= \\mathbb{E}[R_{t+1}|S_t=s] +\\gamma\\mathbb{E}[G_{t+1}|S_t=s], \\\\\n",
    "    &= \\underbrace{\\sum_{a}\\pi(a|s)\\sum_r p(r|s,a)r}_{当前奖励的平均值} +\\underbrace{\\gamma \\sum_a \\pi(a|s)\\sum_{s'}p(s'|s,a)v_{\\pi}(s')}_{未来奖励的平均值}\\\\\n",
    "    &= \t\\sum_{a}\\pi(a|s) \\left[ \\sum_{r}p(r|s,a)r+\\gamma\\sum_{s'}p(s’|s,a)v_{\\pi}(s') \\right], \\forall s\\in S.\n",
    "\n",
    "    \\end{aligned}\n",
    "    $\n",
    "    描述了不同状态值之间的关系，对于所有状态都成立，即一个状态对应一个式子\n",
    "\n",
    "- 矩阵形式\n",
    "    本次实验的贝尔曼公式（矩阵形式）\n",
    "    $\n",
    "        v_{\\pi}(s_i)=r_{\\pi}(s_i)+\\gamma \\sum_{s_j}p_{\\pi}(s_j|s_i)v_{\\pi}(s_j)\n",
    "    $\n",
    "    $\n",
    "    \\underbrace{v_{\\pi}(s)}_{value[i]} = \\underbrace{r(s)}_{R[i]} + \\underbrace{γP_{\\pi}v_{\\pi}(s')}_{γ=0.5,\\ 0.5 * P[i].dot(value)}\n",
    "    $"
   ],
   "metadata": {
    "collapsed": false
   }
  },
  {
   "cell_type": "code",
   "execution_count": 4,
   "outputs": [
    {
     "data": {
      "text/plain": "array([-2.01950168e+00, -2.21451846e+00,  1.16142785e+00,  1.05380928e+01,\n        3.58728554e+00,  6.22301528e-61])"
     },
     "execution_count": 4,
     "metadata": {},
     "output_type": "execute_result"
    }
   ],
   "source": [
    "#梯度下降法计算贝尔曼矩阵,近似值\n",
    "# 由于对所有状态都成立，所以要遍历所有状态\n",
    "def get_bellman():\n",
    "    #初始化values\n",
    "    value = np.ones([6])\n",
    "\n",
    "    for _ in range(200):\n",
    "        for i in range(6):\n",
    "            #每一行的概率和它对应的value相乘，乘以gamma，然后和奖励相加\n",
    "            #反复计算，就收敛到了贝尔曼方程矩阵\n",
    "            value[i] = R[i] + 0.5 * P[i].dot(value)\n",
    "\n",
    "    return value\n",
    "get_bellman()"
   ],
   "metadata": {
    "collapsed": false
   }
  },
  {
   "cell_type": "code",
   "execution_count": 5,
   "outputs": [
    {
     "data": {
      "text/plain": "array([-2.01950168, -2.21451846,  1.16142785, 10.53809283,  3.58728554,\n        0.        ])"
     },
     "execution_count": 5,
     "metadata": {},
     "output_type": "execute_result"
    }
   ],
   "source": [
    "#解析解贝尔曼方程矩阵，真实值\n",
    "def get_bellman():\n",
    "    mat = np.eye(*P.shape)\n",
    "    mat -= 0.5 * P\n",
    "    mat = np.linalg.inv(mat)\n",
    "\n",
    "    return mat.dot(R)\n",
    "\n",
    "\n",
    "get_bellman()"
   ],
   "metadata": {
    "collapsed": false
   }
  },
  {
   "cell_type": "code",
   "execution_count": null,
   "outputs": [],
   "source": [],
   "metadata": {
    "collapsed": false
   }
  }
 ],
 "metadata": {
  "kernelspec": {
   "display_name": "Python 3",
   "language": "python",
   "name": "python3"
  },
  "language_info": {
   "codemirror_mode": {
    "name": "ipython",
    "version": 2
   },
   "file_extension": ".py",
   "mimetype": "text/x-python",
   "name": "python",
   "nbconvert_exporter": "python",
   "pygments_lexer": "ipython2",
   "version": "2.7.6"
  }
 },
 "nbformat": 4,
 "nbformat_minor": 0
}
